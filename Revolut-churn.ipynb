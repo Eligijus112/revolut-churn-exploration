{
 "cells": [
  {
   "cell_type": "markdown",
   "metadata": {},
   "source": [
    "# User engagement and churn analysis"
   ]
  },
  {
   "cell_type": "markdown",
   "metadata": {},
   "source": [
    "This project analyses the user behaviour and churn using data provided by Revolut. The data is split into 4 different data files: \n",
    "\n",
    "**devices.csv** - a table of devices associated with a user\n",
    "\n",
    "**users.csv** - a table regarding user information \n",
    "\n",
    "**notifications.csv** - a table regarding notifications that are beeing sent to users.\n",
    "\n",
    "**transactions.csv** - a table containing transaction data of users. \n",
    "\n",
    "All the tables can be joined together by the id variable **user_id**.\n",
    "\n",
    "The programming language used is **Python 3.7**"
   ]
  },
  {
   "cell_type": "markdown",
   "metadata": {},
   "source": [
    "# Engagement definition"
   ]
  },
  {
   "cell_type": "markdown",
   "metadata": {},
   "source": [
    "A user can be called **engaged** when the user, given a certain period, interacts with a product. In Revolut's case, this would mean that a user interacts with any of the features that Revolut provides: checks his cyber wallet, sends money, uses Revolut's credit card, etc. \n",
    "\n",
    "Increasing user engagement is a top priority for most of the companies, both in retail and in digital. Generally, by increasing the number of times a user interacts or uses a certain product, companies increase their revenue. For example, the more transactions the users make via the Revolut system, the more revenue is being generated from fee and foreign exchange spreads. \n",
    "\n",
    "Additionally, knowing which users are engaged is very beneficial when designing a marketing or pricing strategy. Depending on the marketing goal, promotional money could be allocated between engaged users, disengaged users or acquiring new users.\n",
    "\n",
    "A signed-on user who has not engaged in anything related to Revolut for a long period could be called **disengaged** or **churned**. \n",
    "\n",
    "*This project will try to quantify and establish a definition of when a user can be called a churned user using data.*\n",
    "\n",
    "*Additionally, when the definition is created, we will try to model and predict whether a user will churn or not.*"
   ]
  },
  {
   "cell_type": "markdown",
   "metadata": {},
   "source": [
    "# Loading python packages"
   ]
  },
  {
   "cell_type": "code",
   "execution_count": 1,
   "metadata": {},
   "outputs": [],
   "source": [
    "# Data wrangling\n",
    "import pandas as pd \n",
    "\n",
    "# Visualizations\n",
    "import matplotlib.pyplot as plt\n",
    "from pandas.plotting import register_matplotlib_converters\n",
    "register_matplotlib_converters()\n",
    "\n",
    "# Custom visualization functions\n",
    "from plots import draw_barplot\n",
    "\n",
    "# Working with dates\n",
    "import datetime\n",
    "\n",
    "# Array math \n",
    "import numpy as np\n",
    "\n",
    "# Data cleaning functions\n",
    "from data_cleaning import convert_time, dollar_band, dollar_band_middle_point\n",
    "\n",
    "# Feature engineering class for the transaction data\n",
    "from feature_engineering import TransactionFeatures\n",
    "\n",
    "# K fold analysis package\n",
    "from sklearn.model_selection import KFold\n",
    "\n",
    "# Logistic regression package\n",
    "from sklearn.linear_model import LogisticRegression\n",
    "\n",
    "# Linear regression analysis\n",
    "import statsmodels.api as sm\n",
    "\n",
    "# Accuracy score accuracy measure\n",
    "from sklearn.metrics import accuracy_score"
   ]
  },
  {
   "cell_type": "markdown",
   "metadata": {},
   "source": [
    "# Explanatory data analysis (EDA) of input data"
   ]
  },
  {
   "cell_type": "markdown",
   "metadata": {},
   "source": [
    "## Reading the data with pandas "
   ]
  },
  {
   "cell_type": "code",
   "execution_count": 2,
   "metadata": {},
   "outputs": [],
   "source": [
    "devices = pd.read_csv('data/rev-devices.csv')\n",
    "users = pd.read_csv('data/rev-users.csv')\n",
    "notifications = pd.read_csv('data/rev-notifications.csv')\n",
    "transactions = pd.read_csv('data/rev-transactions.csv')"
   ]
  },
  {
   "cell_type": "markdown",
   "metadata": {},
   "source": [
    "## Users "
   ]
  },
  {
   "cell_type": "markdown",
   "metadata": {},
   "source": [
    "Everytime a new user downloads, installs and registers on the Revolut application a new row is created in the Users table. "
   ]
  },
  {
   "cell_type": "code",
   "execution_count": 3,
   "metadata": {},
   "outputs": [
    {
     "data": {
      "text/html": [
       "<div>\n",
       "<style scoped>\n",
       "    .dataframe tbody tr th:only-of-type {\n",
       "        vertical-align: middle;\n",
       "    }\n",
       "\n",
       "    .dataframe tbody tr th {\n",
       "        vertical-align: top;\n",
       "    }\n",
       "\n",
       "    .dataframe thead th {\n",
       "        text-align: right;\n",
       "    }\n",
       "</style>\n",
       "<table border=\"1\" class=\"dataframe\">\n",
       "  <thead>\n",
       "    <tr style=\"text-align: right;\">\n",
       "      <th></th>\n",
       "      <th>user_id</th>\n",
       "      <th>birth_year</th>\n",
       "      <th>country</th>\n",
       "      <th>city</th>\n",
       "      <th>created_date</th>\n",
       "      <th>user_settings_crypto_unlocked</th>\n",
       "      <th>plan</th>\n",
       "      <th>attributes_notifications_marketing_push</th>\n",
       "      <th>attributes_notifications_marketing_email</th>\n",
       "      <th>num_contacts</th>\n",
       "      <th>num_referrals</th>\n",
       "      <th>num_successful_referrals</th>\n",
       "    </tr>\n",
       "  </thead>\n",
       "  <tbody>\n",
       "    <tr>\n",
       "      <th>0</th>\n",
       "      <td>user_0</td>\n",
       "      <td>1989</td>\n",
       "      <td>PL</td>\n",
       "      <td>Gdansk</td>\n",
       "      <td>2018-01-13 05:15:15.599466</td>\n",
       "      <td>1</td>\n",
       "      <td>STANDARD</td>\n",
       "      <td>1.0</td>\n",
       "      <td>1.0</td>\n",
       "      <td>3</td>\n",
       "      <td>0</td>\n",
       "      <td>0</td>\n",
       "    </tr>\n",
       "    <tr>\n",
       "      <th>1</th>\n",
       "      <td>user_1</td>\n",
       "      <td>1975</td>\n",
       "      <td>GB</td>\n",
       "      <td>London</td>\n",
       "      <td>2018-01-29 03:38:46.676876</td>\n",
       "      <td>0</td>\n",
       "      <td>STANDARD</td>\n",
       "      <td>NaN</td>\n",
       "      <td>NaN</td>\n",
       "      <td>21</td>\n",
       "      <td>0</td>\n",
       "      <td>0</td>\n",
       "    </tr>\n",
       "    <tr>\n",
       "      <th>2</th>\n",
       "      <td>user_2</td>\n",
       "      <td>1987</td>\n",
       "      <td>PL</td>\n",
       "      <td>Poznań</td>\n",
       "      <td>2018-01-18 19:17:31.229096</td>\n",
       "      <td>0</td>\n",
       "      <td>STANDARD</td>\n",
       "      <td>0.0</td>\n",
       "      <td>0.0</td>\n",
       "      <td>21</td>\n",
       "      <td>0</td>\n",
       "      <td>0</td>\n",
       "    </tr>\n",
       "    <tr>\n",
       "      <th>3</th>\n",
       "      <td>user_3</td>\n",
       "      <td>1994</td>\n",
       "      <td>FR</td>\n",
       "      <td>Paris</td>\n",
       "      <td>2018-01-15 18:47:56.723104</td>\n",
       "      <td>0</td>\n",
       "      <td>STANDARD</td>\n",
       "      <td>1.0</td>\n",
       "      <td>0.0</td>\n",
       "      <td>0</td>\n",
       "      <td>0</td>\n",
       "      <td>0</td>\n",
       "    </tr>\n",
       "    <tr>\n",
       "      <th>4</th>\n",
       "      <td>user_4</td>\n",
       "      <td>1985</td>\n",
       "      <td>GB</td>\n",
       "      <td>Beckenham</td>\n",
       "      <td>2018-01-11 00:36:46.673673</td>\n",
       "      <td>0</td>\n",
       "      <td>STANDARD</td>\n",
       "      <td>NaN</td>\n",
       "      <td>NaN</td>\n",
       "      <td>2</td>\n",
       "      <td>0</td>\n",
       "      <td>0</td>\n",
       "    </tr>\n",
       "  </tbody>\n",
       "</table>\n",
       "</div>"
      ],
      "text/plain": [
       "  user_id  birth_year country       city                created_date  \\\n",
       "0  user_0        1989      PL     Gdansk  2018-01-13 05:15:15.599466   \n",
       "1  user_1        1975      GB     London  2018-01-29 03:38:46.676876   \n",
       "2  user_2        1987      PL     Poznań  2018-01-18 19:17:31.229096   \n",
       "3  user_3        1994      FR      Paris  2018-01-15 18:47:56.723104   \n",
       "4  user_4        1985      GB  Beckenham  2018-01-11 00:36:46.673673   \n",
       "\n",
       "   user_settings_crypto_unlocked      plan  \\\n",
       "0                              1  STANDARD   \n",
       "1                              0  STANDARD   \n",
       "2                              0  STANDARD   \n",
       "3                              0  STANDARD   \n",
       "4                              0  STANDARD   \n",
       "\n",
       "   attributes_notifications_marketing_push  \\\n",
       "0                                      1.0   \n",
       "1                                      NaN   \n",
       "2                                      0.0   \n",
       "3                                      1.0   \n",
       "4                                      NaN   \n",
       "\n",
       "   attributes_notifications_marketing_email  num_contacts  num_referrals  \\\n",
       "0                                       1.0             3              0   \n",
       "1                                       NaN            21              0   \n",
       "2                                       0.0            21              0   \n",
       "3                                       0.0             0              0   \n",
       "4                                       NaN             2              0   \n",
       "\n",
       "   num_successful_referrals  \n",
       "0                         0  \n",
       "1                         0  \n",
       "2                         0  \n",
       "3                         0  \n",
       "4                         0  "
      ]
     },
     "execution_count": 3,
     "metadata": {},
     "output_type": "execute_result"
    }
   ],
   "source": [
    "users.head()"
   ]
  },
  {
   "cell_type": "code",
   "execution_count": 4,
   "metadata": {},
   "outputs": [
    {
     "data": {
      "text/plain": [
       "(19430, 12)"
      ]
     },
     "execution_count": 4,
     "metadata": {},
     "output_type": "execute_result"
    }
   ],
   "source": [
    "users.shape"
   ]
  },
  {
   "cell_type": "code",
   "execution_count": 5,
   "metadata": {},
   "outputs": [
    {
     "data": {
      "text/plain": [
       "19430"
      ]
     },
     "execution_count": 5,
     "metadata": {},
     "output_type": "execute_result"
    }
   ],
   "source": [
    "len(set(users['user_id']))"
   ]
  },
  {
   "cell_type": "markdown",
   "metadata": {},
   "source": [
    "The number of rows in the **users** dataset and the number of unique **user_id**s is the same meaning that one user has one unique row in the dataset. There are **19430** unique users in this dataset."
   ]
  },
  {
   "cell_type": "code",
   "execution_count": 6,
   "metadata": {},
   "outputs": [],
   "source": [
    "# Converting the created_date column from string to a datetime object\n",
    "users['created_date'] = [convert_time(x) for x in users['created_date']] \n",
    "\n",
    "# Renaming the column to account_created_date for further use \n",
    "users = users.rename(columns={'created_date': 'account_created_date'})\n",
    "\n",
    "# Calculating the user age at the time of sign in \n",
    "users['age_at_signin'] = [x.year for x in users['account_created_date']] - users['birth_year']\n",
    "\n",
    "# Calculating the current user age\n",
    "users['current_user_age'] = [datetime.datetime.now().year - x for x in users['birth_year']]\n",
    "\n",
    "# Calculating years with Revolut\n",
    "users['years_with_revolut'] = users['current_user_age'] - users['age_at_signin']"
   ]
  },
  {
   "cell_type": "code",
   "execution_count": 7,
   "metadata": {},
   "outputs": [
    {
     "name": "stdout",
     "output_type": "stream",
     "text": [
      "\n",
      "    The first sign in date: 2018-01-01\n",
      "    The last sign in date: 2019-01-03 \n",
      "     \n"
     ]
    }
   ],
   "source": [
    "print(f\"\"\"\n",
    "    The first sign in date: {min(users['account_created_date']).date().strftime('%Y-%m-%d')}\n",
    "    The last sign in date: {max(users['account_created_date']).date().strftime('%Y-%m-%d')} \n",
    "     \"\"\")"
   ]
  },
  {
   "cell_type": "markdown",
   "metadata": {},
   "source": [
    "The users in the data provided registered on Revolut from **2018-01-01** to **2019-01-03**. "
   ]
  },
  {
   "cell_type": "code",
   "execution_count": 8,
   "metadata": {},
   "outputs": [
    {
     "data": {
      "image/png": "[encoded data removed]",
      "text/plain": [
       "<Figure size 1008x576 with 1 Axes>"
      ]
     },
     "metadata": {
      "needs_background": "light"
     },
     "output_type": "display_data"
    }
   ],
   "source": [
    "# Drawing the distribution of users by age\n",
    "draw_barplot(\n",
    "    data=users,\n",
    "    x_column='age_at_signin',\n",
    "    figsize=(14, 8),\n",
    "    title='Users by age of sign in distribution', \n",
    "    xlabel='Age', \n",
    "    ylabel='Number of users'\n",
    ")"
   ]
  },
  {
   "cell_type": "markdown",
   "metadata": {},
   "source": [
    "The distribution of the user age is a right skewed distribution with the biggest number of users beeing between the year 25 and 35. "
   ]
  },
  {
   "cell_type": "code",
   "execution_count": 9,
   "metadata": {},
   "outputs": [
    {
     "data": {
      "image/png": "[encoded data removed]",
      "text/plain": [
       "<Figure size 1008x576 with 1 Axes>"
      ]
     },
     "metadata": {
      "needs_background": "light"
     },
     "output_type": "display_data"
    }
   ],
   "source": [
    "# Distribution of users by country\n",
    "draw_barplot(\n",
    "    data=users,\n",
    "    x_column='country',\n",
    "    figsize=(14, 8),\n",
    "    title='Users by country distribution', \n",
    "    xlabel='Country', \n",
    "    ylabel='Percentage of users from total',\n",
    "    get_shares=True,\n",
    "    sort_by_count=True\n",
    ")"
   ]
  },
  {
   "cell_type": "markdown",
   "metadata": {},
   "source": [
    "The vast majority of the users are from Great Britain (GB), Poland (PL) and France (FR). They amount to more than **50 percent** of all the users."
   ]
  },
  {
   "cell_type": "code",
   "execution_count": 10,
   "metadata": {},
   "outputs": [
    {
     "data": {
      "image/png": "[encoded data removed]",
      "text/plain": [
       "<Figure size 1008x576 with 1 Axes>"
      ]
     },
     "metadata": {
      "needs_background": "light"
     },
     "output_type": "display_data"
    }
   ],
   "source": [
    "# Drawing the distribution of users by age\n",
    "draw_barplot(\n",
    "    data=users,\n",
    "    x_column='plan',\n",
    "    figsize=(14, 8),\n",
    "    title='Users by plan type distribution', \n",
    "    xlabel='Plan', \n",
    "    ylabel='Number of users',\n",
    "    sort_by_count=True\n",
    ")"
   ]
  },
  {
   "cell_type": "markdown",
   "metadata": {},
   "source": [
    "The vast majority of the users in the dataset have a STANDART plan."
   ]
  },
  {
   "cell_type": "markdown",
   "metadata": {},
   "source": [
    "## Devices "
   ]
  },
  {
   "cell_type": "markdown",
   "metadata": {},
   "source": [
    "The information in the devices data represent what operating system does a user use. This is deducted by the type of the application version that a user downloads and installs."
   ]
  },
  {
   "cell_type": "code",
   "execution_count": 11,
   "metadata": {},
   "outputs": [
    {
     "data": {
      "text/html": [
       "<div>\n",
       "<style scoped>\n",
       "    .dataframe tbody tr th:only-of-type {\n",
       "        vertical-align: middle;\n",
       "    }\n",
       "\n",
       "    .dataframe tbody tr th {\n",
       "        vertical-align: top;\n",
       "    }\n",
       "\n",
       "    .dataframe thead th {\n",
       "        text-align: right;\n",
       "    }\n",
       "</style>\n",
       "<table border=\"1\" class=\"dataframe\">\n",
       "  <thead>\n",
       "    <tr style=\"text-align: right;\">\n",
       "      <th></th>\n",
       "      <th>brand</th>\n",
       "      <th>user_id</th>\n",
       "    </tr>\n",
       "  </thead>\n",
       "  <tbody>\n",
       "    <tr>\n",
       "      <th>0</th>\n",
       "      <td>Android</td>\n",
       "      <td>user_3257</td>\n",
       "    </tr>\n",
       "    <tr>\n",
       "      <th>1</th>\n",
       "      <td>Apple</td>\n",
       "      <td>user_6809</td>\n",
       "    </tr>\n",
       "    <tr>\n",
       "      <th>2</th>\n",
       "      <td>Android</td>\n",
       "      <td>user_9144</td>\n",
       "    </tr>\n",
       "    <tr>\n",
       "      <th>3</th>\n",
       "      <td>Apple</td>\n",
       "      <td>user_3636</td>\n",
       "    </tr>\n",
       "    <tr>\n",
       "      <th>4</th>\n",
       "      <td>Android</td>\n",
       "      <td>user_5970</td>\n",
       "    </tr>\n",
       "  </tbody>\n",
       "</table>\n",
       "</div>"
      ],
      "text/plain": [
       "     brand    user_id\n",
       "0  Android  user_3257\n",
       "1    Apple  user_6809\n",
       "2  Android  user_9144\n",
       "3    Apple  user_3636\n",
       "4  Android  user_5970"
      ]
     },
     "execution_count": 11,
     "metadata": {},
     "output_type": "execute_result"
    }
   ],
   "source": [
    "devices.head()"
   ]
  },
  {
   "cell_type": "code",
   "execution_count": 12,
   "metadata": {},
   "outputs": [
    {
     "data": {
      "text/plain": [
       "(19430, 2)"
      ]
     },
     "execution_count": 12,
     "metadata": {},
     "output_type": "execute_result"
    }
   ],
   "source": [
    "devices.shape"
   ]
  },
  {
   "cell_type": "markdown",
   "metadata": {},
   "source": [
    "There is one device type per user in the dataset."
   ]
  },
  {
   "cell_type": "code",
   "execution_count": 13,
   "metadata": {},
   "outputs": [
    {
     "data": {
      "image/png": "[encoded data removed]",
      "text/plain": [
       "<Figure size 1008x576 with 1 Axes>"
      ]
     },
     "metadata": {
      "needs_background": "light"
     },
     "output_type": "display_data"
    }
   ],
   "source": [
    "# Drawing the distribution of users by device\n",
    "draw_barplot(\n",
    "    data=devices,\n",
    "    x_column='brand',\n",
    "    figsize=(14, 8),\n",
    "    title='Users by device type distribution', \n",
    "    xlabel='Device type', \n",
    "    ylabel='Number of users',\n",
    "    sort_by_count=True\n",
    ")"
   ]
  },
  {
   "cell_type": "markdown",
   "metadata": {},
   "source": [
    "The total majority of the users use either android or apple devices. The distribution between these two systems is almost identical in terms of user count.\n",
    "\n",
    "We can deduct that all the users in this dataset are mobile Revolut users. "
   ]
  },
  {
   "cell_type": "markdown",
   "metadata": {},
   "source": [
    "## Notifications "
   ]
  },
  {
   "cell_type": "markdown",
   "metadata": {},
   "source": [
    "Revolut sends various notifications to users. Every notifications has a reason and a channel indicating how a user was notified. "
   ]
  },
  {
   "cell_type": "code",
   "execution_count": 14,
   "metadata": {},
   "outputs": [
    {
     "data": {
      "text/html": [
       "<div>\n",
       "<style scoped>\n",
       "    .dataframe tbody tr th:only-of-type {\n",
       "        vertical-align: middle;\n",
       "    }\n",
       "\n",
       "    .dataframe tbody tr th {\n",
       "        vertical-align: top;\n",
       "    }\n",
       "\n",
       "    .dataframe thead th {\n",
       "        text-align: right;\n",
       "    }\n",
       "</style>\n",
       "<table border=\"1\" class=\"dataframe\">\n",
       "  <thead>\n",
       "    <tr style=\"text-align: right;\">\n",
       "      <th></th>\n",
       "      <th>reason</th>\n",
       "      <th>channel</th>\n",
       "      <th>status</th>\n",
       "      <th>user_id</th>\n",
       "      <th>created_date</th>\n",
       "    </tr>\n",
       "  </thead>\n",
       "  <tbody>\n",
       "    <tr>\n",
       "      <th>0</th>\n",
       "      <td>REENGAGEMENT_ACTIVE_FUNDS</td>\n",
       "      <td>PUSH</td>\n",
       "      <td>SENT</td>\n",
       "      <td>user_7086</td>\n",
       "      <td>2018-12-02 17:58:33.320645</td>\n",
       "    </tr>\n",
       "    <tr>\n",
       "      <th>1</th>\n",
       "      <td>REENGAGEMENT_ACTIVE_FUNDS</td>\n",
       "      <td>PUSH</td>\n",
       "      <td>SENT</td>\n",
       "      <td>user_6598</td>\n",
       "      <td>2018-12-01 23:09:37.367127</td>\n",
       "    </tr>\n",
       "    <tr>\n",
       "      <th>2</th>\n",
       "      <td>REENGAGEMENT_ACTIVE_FUNDS</td>\n",
       "      <td>PUSH</td>\n",
       "      <td>SENT</td>\n",
       "      <td>user_4151</td>\n",
       "      <td>2018-12-04 02:57:56.425660</td>\n",
       "    </tr>\n",
       "    <tr>\n",
       "      <th>3</th>\n",
       "      <td>REENGAGEMENT_ACTIVE_FUNDS</td>\n",
       "      <td>PUSH</td>\n",
       "      <td>SENT</td>\n",
       "      <td>user_1408</td>\n",
       "      <td>2018-12-11 02:04:46.284683</td>\n",
       "    </tr>\n",
       "    <tr>\n",
       "      <th>4</th>\n",
       "      <td>REENGAGEMENT_ACTIVE_FUNDS</td>\n",
       "      <td>PUSH</td>\n",
       "      <td>SENT</td>\n",
       "      <td>user_6292</td>\n",
       "      <td>2018-12-14 17:09:58.900808</td>\n",
       "    </tr>\n",
       "  </tbody>\n",
       "</table>\n",
       "</div>"
      ],
      "text/plain": [
       "                      reason channel status    user_id  \\\n",
       "0  REENGAGEMENT_ACTIVE_FUNDS    PUSH   SENT  user_7086   \n",
       "1  REENGAGEMENT_ACTIVE_FUNDS    PUSH   SENT  user_6598   \n",
       "2  REENGAGEMENT_ACTIVE_FUNDS    PUSH   SENT  user_4151   \n",
       "3  REENGAGEMENT_ACTIVE_FUNDS    PUSH   SENT  user_1408   \n",
       "4  REENGAGEMENT_ACTIVE_FUNDS    PUSH   SENT  user_6292   \n",
       "\n",
       "                created_date  \n",
       "0 2018-12-02 17:58:33.320645  \n",
       "1 2018-12-01 23:09:37.367127  \n",
       "2 2018-12-04 02:57:56.425660  \n",
       "3 2018-12-11 02:04:46.284683  \n",
       "4 2018-12-14 17:09:58.900808  "
      ]
     },
     "execution_count": 14,
     "metadata": {},
     "output_type": "execute_result"
    }
   ],
   "source": [
    "# Converting created_date column\n",
    "notifications['created_date'] = [convert_time(x) for x in notifications['created_date']]\n",
    "\n",
    "# Head of data\n",
    "notifications.head()"
   ]
  },
  {
   "cell_type": "markdown",
   "metadata": {},
   "source": [
    "The reasons can be various: notifications about insufficient funds, information about bill splitting in restaurants, public holidays, etc. \n",
    "\n",
    "Unique reasons:"
   ]
  },
  {
   "cell_type": "code",
   "execution_count": 15,
   "metadata": {},
   "outputs": [
    {
     "data": {
      "text/plain": [
       "{'BLACK_FRIDAY',\n",
       " 'ENGAGEMENT_SPLIT_BILL_RESTAURANT',\n",
       " 'FIFTH_PAYMENT_PROMO',\n",
       " 'JOINING_ANNIVERSARY',\n",
       " 'LOST_CARD_ORDER',\n",
       " 'MADE_MONEY_REQUEST_NOT_SPLIT_BILL',\n",
       " 'METAL_GAME_START',\n",
       " 'METAL_RESERVE_PLAN',\n",
       " 'NO_INITIAL_CARD_ORDER',\n",
       " 'NO_INITIAL_CARD_USE',\n",
       " 'NO_INITIAL_FREE_PROMOPAGE_CARD_ORDER',\n",
       " 'ONBOARDING_TIPS_ACTIVATED_USERS',\n",
       " 'PREMIUM_ENGAGEMENT_FEES_SAVED',\n",
       " 'PREMIUM_ENGAGEMENT_INACTIVE_CARD',\n",
       " 'PUMPKIN_PAYMENT_NOTIFICATION',\n",
       " 'REENGAGEMENT_ACTIVE_FUNDS',\n",
       " 'WELCOME_HOME'}"
      ]
     },
     "execution_count": 15,
     "metadata": {},
     "output_type": "execute_result"
    }
   ],
   "source": [
    "set(notifications['reason'])"
   ]
  },
  {
   "cell_type": "markdown",
   "metadata": {},
   "source": [
    "Unique channels: "
   ]
  },
  {
   "cell_type": "code",
   "execution_count": 16,
   "metadata": {},
   "outputs": [
    {
     "data": {
      "text/plain": [
       "{'EMAIL', 'PUSH', 'SMS'}"
      ]
     },
     "execution_count": 16,
     "metadata": {},
     "output_type": "execute_result"
    }
   ],
   "source": [
    "set(notifications['channel'])"
   ]
  },
  {
   "cell_type": "code",
   "execution_count": 17,
   "metadata": {},
   "outputs": [
    {
     "data": {
      "image/png": "[encoded data removed]",
      "text/plain": [
       "<Figure size 1008x576 with 1 Axes>"
      ]
     },
     "metadata": {
      "needs_background": "light"
     },
     "output_type": "display_data"
    }
   ],
   "source": [
    "# Drawing the distribution of notifications by reason type\n",
    "draw_barplot(\n",
    "    data=notifications,\n",
    "    x_column='reason',\n",
    "    figsize=(14, 8),\n",
    "    title='Notification distribution by reason', \n",
    "    xlabel='Number of notifications sent', \n",
    "    sort_by_count=True,\n",
    "    horiz=True\n",
    ")"
   ]
  },
  {
   "cell_type": "code",
   "execution_count": 18,
   "metadata": {},
   "outputs": [
    {
     "data": {
      "image/png": "[encoded data removed]",
      "text/plain": [
       "<Figure size 1008x576 with 1 Axes>"
      ]
     },
     "metadata": {
      "needs_background": "light"
     },
     "output_type": "display_data"
    }
   ],
   "source": [
    "# Drawing the distribution of notifications by reason type\n",
    "draw_barplot(\n",
    "    data=notifications,\n",
    "    x_column='channel',\n",
    "    figsize=(14, 8),\n",
    "    title='Notification distribution by channel', \n",
    "    xlabel='Number of notifications sent', \n",
    "    sort_by_count=True,\n",
    "    horiz=True\n",
    ")"
   ]
  },
  {
   "cell_type": "markdown",
   "metadata": {},
   "source": [
    "As we can see, the two biggest reasons for notifications are **reengagement_active_funds** and **fifth_payment_promo**. The channels by which these notifications are beeing sent are either email or push notifications that pop up on the user screen."
   ]
  },
  {
   "cell_type": "code",
   "execution_count": 19,
   "metadata": {},
   "outputs": [],
   "source": [
    "# Creating a column for notification sent date \n",
    "notifications['sent_day'] = [x.date() for x in notifications['created_date']]"
   ]
  },
  {
   "cell_type": "code",
   "execution_count": 20,
   "metadata": {},
   "outputs": [
    {
     "data": {
      "image/png": "[encoded data removed]",
      "text/plain": [
       "<Figure size 1008x576 with 1 Axes>"
      ]
     },
     "metadata": {
      "needs_background": "light"
     },
     "output_type": "display_data"
    }
   ],
   "source": [
    "# Creating a time series\n",
    "ts_notify = notifications.groupby(['sent_day'], as_index=False).size()\n",
    "\n",
    "# Ploting\n",
    "plt.figure(figsize=(14, 8))\n",
    "plt.plot(ts_notify.index, ts_notify, '-o', data=ts_notify, linewidth=2)\n",
    "plt.xlabel('Date')\n",
    "plt.ylabel('Amount of notifications')\n",
    "plt.title('Total amount of notifications sent per day')\n",
    "plt.grid()\n",
    "plt.show()"
   ]
  },
  {
   "cell_type": "markdown",
   "metadata": {},
   "source": [
    "There was a steady increase in notifications from 2018-09 up until 2019-09. The sudden drop from that date may indicate a change in marketing strategy."
   ]
  },
  {
   "cell_type": "markdown",
   "metadata": {},
   "source": [
    "## Transactions "
   ]
  },
  {
   "cell_type": "markdown",
   "metadata": {},
   "source": [
    "An event where a user sends money from his account is called a transaction. Every unique transaction creates a new row in the **transactions** table. All the transactions, no matter if the currency is USD or not, have a column indicating the transacting amount in USD. "
   ]
  },
  {
   "cell_type": "code",
   "execution_count": 21,
   "metadata": {},
   "outputs": [
    {
     "data": {
      "text/html": [
       "<div>\n",
       "<style scoped>\n",
       "    .dataframe tbody tr th:only-of-type {\n",
       "        vertical-align: middle;\n",
       "    }\n",
       "\n",
       "    .dataframe tbody tr th {\n",
       "        vertical-align: top;\n",
       "    }\n",
       "\n",
       "    .dataframe thead th {\n",
       "        text-align: right;\n",
       "    }\n",
       "</style>\n",
       "<table border=\"1\" class=\"dataframe\">\n",
       "  <thead>\n",
       "    <tr style=\"text-align: right;\">\n",
       "      <th></th>\n",
       "      <th>transaction_id</th>\n",
       "      <th>transactions_type</th>\n",
       "      <th>transactions_currency</th>\n",
       "      <th>amount_usd</th>\n",
       "      <th>transactions_state</th>\n",
       "      <th>ea_cardholderpresence</th>\n",
       "      <th>ea_merchant_mcc</th>\n",
       "      <th>ea_merchant_city</th>\n",
       "      <th>ea_merchant_country</th>\n",
       "      <th>direction</th>\n",
       "      <th>user_id</th>\n",
       "      <th>created_date</th>\n",
       "    </tr>\n",
       "  </thead>\n",
       "  <tbody>\n",
       "    <tr>\n",
       "      <th>0</th>\n",
       "      <td>transaction_0</td>\n",
       "      <td>TRANSFER</td>\n",
       "      <td>AED</td>\n",
       "      <td>4.55</td>\n",
       "      <td>COMPLETED</td>\n",
       "      <td>NaN</td>\n",
       "      <td>NaN</td>\n",
       "      <td>NaN</td>\n",
       "      <td>NaN</td>\n",
       "      <td>OUTBOUND</td>\n",
       "      <td>user_898</td>\n",
       "      <td>2018-04-03 03:34:21.784487</td>\n",
       "    </tr>\n",
       "    <tr>\n",
       "      <th>1</th>\n",
       "      <td>transaction_1</td>\n",
       "      <td>CARD_PAYMENT</td>\n",
       "      <td>AED</td>\n",
       "      <td>15.50</td>\n",
       "      <td>COMPLETED</td>\n",
       "      <td>FALSE</td>\n",
       "      <td>4111.0</td>\n",
       "      <td>Dubai</td>\n",
       "      <td>ARE</td>\n",
       "      <td>OUTBOUND</td>\n",
       "      <td>user_1652</td>\n",
       "      <td>2019-03-19 06:15:59.537032</td>\n",
       "    </tr>\n",
       "    <tr>\n",
       "      <th>2</th>\n",
       "      <td>transaction_2</td>\n",
       "      <td>CARD_PAYMENT</td>\n",
       "      <td>AED</td>\n",
       "      <td>43.40</td>\n",
       "      <td>COMPLETED</td>\n",
       "      <td>FALSE</td>\n",
       "      <td>5814.0</td>\n",
       "      <td>Dubai</td>\n",
       "      <td>ARE</td>\n",
       "      <td>OUTBOUND</td>\n",
       "      <td>user_1652</td>\n",
       "      <td>2019-03-18 18:53:41.323032</td>\n",
       "    </tr>\n",
       "    <tr>\n",
       "      <th>3</th>\n",
       "      <td>transaction_3</td>\n",
       "      <td>TRANSFER</td>\n",
       "      <td>AED</td>\n",
       "      <td>10043.01</td>\n",
       "      <td>COMPLETED</td>\n",
       "      <td>NaN</td>\n",
       "      <td>NaN</td>\n",
       "      <td>NaN</td>\n",
       "      <td>NaN</td>\n",
       "      <td>OUTBOUND</td>\n",
       "      <td>user_1652</td>\n",
       "      <td>2019-03-22 14:20:01.513032</td>\n",
       "    </tr>\n",
       "    <tr>\n",
       "      <th>4</th>\n",
       "      <td>transaction_4</td>\n",
       "      <td>CARD_PAYMENT</td>\n",
       "      <td>AED</td>\n",
       "      <td>43.81</td>\n",
       "      <td>COMPLETED</td>\n",
       "      <td>FALSE</td>\n",
       "      <td>5651.0</td>\n",
       "      <td>Abu Dhabi</td>\n",
       "      <td>ARE</td>\n",
       "      <td>OUTBOUND</td>\n",
       "      <td>user_5509</td>\n",
       "      <td>2019-03-22 05:42:50.316652</td>\n",
       "    </tr>\n",
       "  </tbody>\n",
       "</table>\n",
       "</div>"
      ],
      "text/plain": [
       "  transaction_id transactions_type transactions_currency  amount_usd  \\\n",
       "0  transaction_0          TRANSFER                   AED        4.55   \n",
       "1  transaction_1      CARD_PAYMENT                   AED       15.50   \n",
       "2  transaction_2      CARD_PAYMENT                   AED       43.40   \n",
       "3  transaction_3          TRANSFER                   AED    10043.01   \n",
       "4  transaction_4      CARD_PAYMENT                   AED       43.81   \n",
       "\n",
       "  transactions_state ea_cardholderpresence  ea_merchant_mcc ea_merchant_city  \\\n",
       "0          COMPLETED                   NaN              NaN              NaN   \n",
       "1          COMPLETED                 FALSE           4111.0            Dubai   \n",
       "2          COMPLETED                 FALSE           5814.0            Dubai   \n",
       "3          COMPLETED                   NaN              NaN              NaN   \n",
       "4          COMPLETED                 FALSE           5651.0        Abu Dhabi   \n",
       "\n",
       "  ea_merchant_country direction    user_id                created_date  \n",
       "0                 NaN  OUTBOUND   user_898  2018-04-03 03:34:21.784487  \n",
       "1                 ARE  OUTBOUND  user_1652  2019-03-19 06:15:59.537032  \n",
       "2                 ARE  OUTBOUND  user_1652  2019-03-18 18:53:41.323032  \n",
       "3                 NaN  OUTBOUND  user_1652  2019-03-22 14:20:01.513032  \n",
       "4                 ARE  OUTBOUND  user_5509  2019-03-22 05:42:50.316652  "
      ]
     },
     "execution_count": 21,
     "metadata": {},
     "output_type": "execute_result"
    }
   ],
   "source": [
    "transactions.head()"
   ]
  },
  {
   "cell_type": "code",
   "execution_count": 22,
   "metadata": {},
   "outputs": [
    {
     "data": {
      "text/plain": [
       "(2740075, 12)"
      ]
     },
     "execution_count": 22,
     "metadata": {},
     "output_type": "execute_result"
    }
   ],
   "source": [
    "transactions.shape"
   ]
  },
  {
   "cell_type": "markdown",
   "metadata": {},
   "source": [
    "There are more than 2.5 million unique transactions om the dataset."
   ]
  },
  {
   "cell_type": "code",
   "execution_count": 23,
   "metadata": {},
   "outputs": [
    {
     "data": {
      "image/png": "[encoded data removed]",
      "text/plain": [
       "<Figure size 1008x576 with 1 Axes>"
      ]
     },
     "metadata": {
      "needs_background": "light"
     },
     "output_type": "display_data"
    }
   ],
   "source": [
    "# Plotting the transaction distribution by type\n",
    "draw_barplot(\n",
    "    data=transactions,\n",
    "    x_column='transactions_type',\n",
    "    figsize=(14, 8),\n",
    "    title='Transaction by type distribution', \n",
    "    xlabel='Number of transactions', \n",
    "    sort_by_count=True,\n",
    "    horiz=True\n",
    ")"
   ]
  },
  {
   "cell_type": "markdown",
   "metadata": {},
   "source": [
    "The most popular type by far is the card payment type. Every time a user uses his Revolut card, the counter of total transactions by card is increased by one. The second most popular payment type is the transfer method, where a user sends money from one revolut account to another. "
   ]
  },
  {
   "cell_type": "code",
   "execution_count": null,
   "metadata": {},
   "outputs": [],
   "source": [
    "# Converting the created_date column to datetime \n",
    "transactions['created_date'] = [convert_time(x) for x in transactions['created_date']]\n",
    "\n",
    "# Creating the day column \n",
    "transactions['transaction_day'] = [x.date() for x in transactions['created_date']]"
   ]
  },
  {
   "cell_type": "code",
   "execution_count": null,
   "metadata": {},
   "outputs": [],
   "source": [
    "# Creating a time series\n",
    "ts_txn = transactions.groupby(['transaction_day'], as_index=False)['user_id'].count().rename(columns={'user_id':'transaction_count'})\n",
    "\n",
    "# Ploting\n",
    "plt.figure(figsize=(14, 8))\n",
    "plt.plot('transaction_day', 'transaction_count', '-o', data=ts_txn, linewidth=2)\n",
    "plt.xlabel('Date')\n",
    "plt.ylabel('Amount of notifications')\n",
    "plt.title('Total amount of transactions per day')\n",
    "plt.grid()\n",
    "plt.show()"
   ]
  },
  {
   "cell_type": "markdown",
   "metadata": {},
   "source": [
    "Probably because of the data extraction process, the last days in the data set have a huge drop in total number of transactions."
   ]
  },
  {
   "cell_type": "code",
   "execution_count": null,
   "metadata": {},
   "outputs": [],
   "source": [
    "# Creating the dollar band column \n",
    "transactions['dollar_band'] = [dollar_band(x) for x in transactions['amount_usd']]\n",
    "\n",
    "# Creating the middle point of dollar band \n",
    "transactions['middle_point'] = [dollar_band_middle_point(x) for x in transactions['dollar_band']]"
   ]
  },
  {
   "cell_type": "code",
   "execution_count": null,
   "metadata": {},
   "outputs": [],
   "source": [
    "# Visualizing the count of transaction by amount sent\n",
    "plt.figure(figsize=(16, 8))\n",
    "\n",
    "# Grouping and sorting by dollar band and middle band\n",
    "grouped = transactions.groupby(['dollar_band', 'middle_point'], as_index=False)['user_id'].count().rename(columns={'user_id':'txn_count'})\n",
    "grouped.sort_values('middle_point', inplace=True)\n",
    "\n",
    "plt.bar(x=grouped['dollar_band'], height=grouped['txn_count'])\n",
    "plt.title('Transactions by dollar band distribution')\n",
    "plt.xlabel('Dollar band')\n",
    "plt.ylabel('Number of transactions')\n",
    "plt.show()"
   ]
  },
  {
   "cell_type": "markdown",
   "metadata": {},
   "source": [
    "As we can see, the vast majority of the transactions are ranging between 0 and 10 dollars. Taking into account that the biggest number of transaction type is card payments, we can conclude that **most users in our data set use Revolut for small payments using the revolut card**."
   ]
  },
  {
   "cell_type": "markdown",
   "metadata": {},
   "source": [
    "# EDA of user behaviour and defining a disengaged user"
   ]
  },
  {
   "cell_type": "markdown",
   "metadata": {},
   "source": [
    "In order to determine which users are disengaged or not we need to see the historical trends of user daily behaviour. We will analyze how the average number of transactions changes over time since installation and how do users behave in terms of transaction frequency."
   ]
  },
  {
   "cell_type": "markdown",
   "metadata": {},
   "source": [
    "## Average transactions per user since installation"
   ]
  },
  {
   "cell_type": "markdown",
   "metadata": {},
   "source": [
    "We need to analyze whether user behaviour changes over time since installation of the Revolut application. It would be a bad sign if, after a certain period of time, user daily average transactions drop. This would mean a loss of interest in the application from the user. Additionally, if there is a clear negative pattern in the daily average transactions we could use this information in deciding when a user is disengaged."
   ]
  },
  {
   "cell_type": "code",
   "execution_count": null,
   "metadata": {},
   "outputs": [],
   "source": [
    "# Merging transaction data with user data \n",
    "d = pd.merge(transactions, users, on='user_id')\n",
    "\n",
    "# Subsetting only the needed columns\n",
    "d = d[[\n",
    "    'user_id', \n",
    "    'transaction_id', \n",
    "    'transactions_type', \n",
    "    'amount_usd', \n",
    "    'account_created_date',\n",
    "    'created_date'\n",
    "    ]].rename(columns={'created_date': 'transaction_date'})\n",
    "\n",
    "# Calculating the time between transaction and account creation\n",
    "d['days_since_account_creation'] = [x.days for x in d['transaction_date'] - d['account_created_date']]"
   ]
  },
  {
   "cell_type": "code",
   "execution_count": null,
   "metadata": {},
   "outputs": [],
   "source": [
    "# Calculating the average number of transactions each day since install and by transaction type\n",
    "grouped = d.groupby(['days_since_account_creation', 'transactions_type']).apply(lambda x: x.shape[0]/len(set(x['user_id'])))\n",
    "\n",
    "# Creating a tidy dataframe for analysis\n",
    "d_install = grouped.index.to_frame()\n",
    "d_install['avg_transactions'] = grouped\n",
    "\n",
    "# Renaming the columns \n",
    "d_install = d_install.rename(columns={\n",
    "    'days_since_account_creation': 'days_since_creation', \n",
    "    'transactions_type': 'type'\n",
    "    })\n",
    "\n",
    "# Pivoting the table\n",
    "d_install = d_install.pivot_table(index='days_since_creation', columns='type', values='avg_transactions')"
   ]
  },
  {
   "cell_type": "code",
   "execution_count": null,
   "metadata": {},
   "outputs": [],
   "source": [
    "# Ploting every transaction type \n",
    "plt.figure(figsize=(22, 22))\n",
    "for i, txn_type in enumerate(d_install.columns):\n",
    "    plt.subplot(4, 3, i + 1)\n",
    "    plt.plot(d_install.index, d_install[txn_type], color='saddlebrown')\n",
    "    plt.title(txn_type)\n",
    "    plt.xlabel('Days since install')\n",
    "    plt.ylabel('Average transactions per user')\n",
    "    plt.grid()\n",
    "plt.show()"
   ]
  },
  {
   "cell_type": "markdown",
   "metadata": {},
   "source": [
    "The above graphs show the average transactions per user every day since installation by every transaction type. As we can see, the three biggest types - **CARD_PAYMENT**, **TRANSFER** and **TOPUP** stay around the mean and do not have a big downwards trend. This means that the users, on average, transact the same number of times daily during the whole period that they are with revolut."
   ]
  },
  {
   "cell_type": "markdown",
   "metadata": {},
   "source": [
    "## Empirical cumulative distribution function (ECDF)"
   ]
  },
  {
   "cell_type": "markdown",
   "metadata": {},
   "source": [
    "Before analyzing the distribution of users by the time since their last transaction we need to introduce the **empirical cumulative distribution function** (or **ecdf** for short). \n",
    "\n",
    "The definition of that function is as follows:\n",
    "\n",
    "Given an empirical sample ($x_{1}$, $x_{2}$, ..., $x_{n}$) of a random variable $X$ the empirical cumulative distribution functions is defined by \n",
    "\n",
    "$$ F(t) = \\dfrac{\\# x_{i} \\leq t}{n} = \\dfrac{1}{n} \\sum_{i}^{n} 1_{x_{i} \\leq t} $$\n",
    "\n",
    "where $1_{A}$ is the indicator of an event $A$.\n",
    "\n",
    "In other words, **for a given t (most commonly called a treshold), the function gives a share of the total values in the sample that are less than or equal to t.** \n",
    "\n",
    "For example, F(**200**) = **0.8** would mean that in the observed sample, **80 percent** of all observations or less than or equal to **200**. \n",
    "\n",
    "The function values range from 0 to 1 and the function is an increasing function. "
   ]
  },
  {
   "cell_type": "markdown",
   "metadata": {},
   "source": [
    "## Time since last transaction "
   ]
  },
  {
   "cell_type": "markdown",
   "metadata": {},
   "source": [
    "We need to analyze how many users transact after n days since their last transaction. If a user is engaged, then he transacts or in any other way uses the application on a regular basis. The number of users that transact after n days after last transaction should be less then or equal to the number of users that transacted after n-1 days.\n",
    "\n",
    "We will analyze the ecdf plots to determine the distribution of users that transacted after n days of inactivity."
   ]
  },
  {
   "cell_type": "code",
   "execution_count": null,
   "metadata": {},
   "outputs": [],
   "source": [
    "# Calculating the difference in time between transactions\n",
    "d.sort_values(['user_id', 'transactions_type', 'transaction_date'], inplace=True)\n",
    "grouped = d.groupby(['user_id', 'transactions_type'], as_index=False)['transaction_date'].diff()\n",
    "d['time_since_last_txn'] = [x.days for x in grouped.reset_index()['transaction_date']]\n",
    "\n",
    "# Counting the number of unique users that transact after n days of previous transaction\n",
    "grouped = d.dropna().groupby(['transactions_type', 'time_since_last_txn'], as_index=False).apply(lambda x: len(set(x['user_id'])))\n",
    "\n",
    "# Creating a tidy data frame \n",
    "df = grouped.index.to_frame()\n",
    "df['number_of_users'] = grouped\n",
    "df = df.rename(columns={'transactions_type': 'type', 'time_since_last_txn': 'days_since_last_transaction'})\n",
    "\n",
    "# Pivoting the table \n",
    "df = df.pivot_table(index='days_since_last_transaction', columns='type', values='number_of_users')\n",
    "\n",
    "# Calculating the share of total users\n",
    "df = df.apply(lambda x: x/np.sum(x))\n",
    "\n",
    "# Calculating the cumulative sums of shares to get ECDF data\n",
    "df = df.apply(lambda x: x.cumsum())\n",
    "\n",
    "# Ploting the ECDF data\n",
    "plt.figure(figsize=(22, 22))\n",
    "for i, txn_type in enumerate(df.columns):\n",
    "    plt.subplot(4, 3, i + 1)\n",
    "    plt.plot(df.index, df[txn_type], color='saddlebrown', linewidth=2)\n",
    "    plt.title(txn_type)\n",
    "    plt.xlabel('Days since last transaction')\n",
    "    plt.ylabel('Share of users')\n",
    "    plt.grid()\n",
    "plt.show()"
   ]
  },
  {
   "cell_type": "markdown",
   "metadata": {},
   "source": [
    "On the x axis we have the number of days since last transaction, and on the y axis we have the share of total users.\n",
    "\n",
    "The empirical cumulative distribution function values represent the share of users that transacted after x days of their previous transaction or less. \n",
    "\n",
    "For example, we can see that for CARD_PAYMENT, the percentage of users that transacted after 100 days since their last transaction **or less** is very near 100 percent. This means, that there are very few users that transacted after 100 days **or more** of inactivity."
   ]
  },
  {
   "cell_type": "code",
   "execution_count": null,
   "metadata": {},
   "outputs": [],
   "source": [
    "df[df.index==90]"
   ]
  },
  {
   "cell_type": "markdown",
   "metadata": {},
   "source": [
    "The table above shows the percentage of users who transact after **90 days or less** since their last transaction. To get the share of users that transacted after 90 days since their last transaction we need to subtract the values in the table from 1. For example, for the biggest type CARD_PAYMENT, the share of users that still transacted after 90 days of inactivity is about 0.025 or 2.5 percent."
   ]
  },
  {
   "cell_type": "markdown",
   "metadata": {},
   "source": [
    "## Disengaged user definition"
   ]
  },
  {
   "cell_type": "markdown",
   "metadata": {},
   "source": [
    "From the ecdf plots and the table in the previous section we can define a disengaged user:\n",
    "\n",
    "**A user is considered disengaged if a user does not make any transactions after 90 days from his last transaction.** "
   ]
  },
  {
   "cell_type": "markdown",
   "metadata": {},
   "source": [
    "# Modeling the disengaged users"
   ]
  },
  {
   "cell_type": "markdown",
   "metadata": {},
   "source": [
    "In this section we will try to create a model to determine whether a user is disengaged or not. If we would calculate the difference between current day and the last transactions' date, we would get that all the users are disengaged. This is because we are working with a snaphost of data from the database. \n",
    "\n",
    "We know that the last user signed in on 2019-01-03. We will only keep that users that signed in prior to 2019-01-03 minus 90 days. This is because we want to create a model with enough time for all the users to show that they are disengaged or not.\n",
    "\n",
    "I will assume that the current date is 2019-01-03."
   ]
  },
  {
   "cell_type": "markdown",
   "metadata": {},
   "source": [
    "## Logistic regression model"
   ]
  },
  {
   "cell_type": "markdown",
   "metadata": {},
   "source": [
    "I will use the logistic regression model to predict whether a user is engaged or not. I use logistic regression for several reasons: \n",
    "\n",
    "1. Our objective is to classify whether a user is engaged or not. This means that this is a clasical binary classification problem which logistic regression works well in solving.\n",
    "\n",
    "2. Logistic regression outputs probabilities for each user so we can analyze how confident we are that a user is disengaged or not. Additionally, we can change the treshold from 0.5 to any value in determining whether a user is disengaged or not.\n",
    "\n",
    "3. Logistic regression is implemented in python in the skicit-learn package with minimal amount of hyper parameters. \n",
    "\n",
    "4. The fitting of the model is fast and reliable.\n",
    "\n",
    "5. We can analyze the coefficients near the features to determine which features are most important, whether the results are logical, which features lead to a user beeing disengaged and which features indicate that a user is engaged.\n",
    "\n",
    "The logistic regression model for a binary random variable is defined by the equation:\n",
    "\n",
    "$$P(Y=1|X)=\\dfrac{1}{1 + e^{-\\beta_{0} - \\beta_{1}X_{1} - ... - \\beta_{p}X_{p}}}$$"
   ]
  },
  {
   "cell_type": "markdown",
   "metadata": {},
   "source": [
    "Given the data of $(Y, X)$, a solver in the computer tries to find the best coefficients $\\beta_{i}$ that for each $y_{i} = 1$ the term $\\dfrac{1}{1 + e^{-\\beta_{0} - \\beta_{1}X_{1i} - ... - \\beta_{p}X_{pi}}}$ has a high value and for each $y_{i} = 0$ the same term has a low value.\n",
    "\n",
    "This process is often called the maximum likelihood estimation.\n",
    "\n",
    "The function $f(z) = \\dfrac{1}{1 + e^{z}}$ has the range of $(0, 1)$ so we can loosely interpret the values of that function as probabilities. A 'high' value of the classifier would mean the probability beeing in the range of [0.7, 1), and a low value indicating that the probability is in the range of (0, 0.3]."
   ]
  },
  {
   "cell_type": "markdown",
   "metadata": {},
   "source": [
    "## Hyper parameters for logisitic regression"
   ]
  },
  {
   "cell_type": "markdown",
   "metadata": {},
   "source": [
    "To read more about all the possible hyper parameters for the logistic regression visit: \n",
    "https://scikit-learn.org/stable/modules/generated/sklearn.linear_model.LogisticRegression.html.\n",
    "\n",
    "We will mainly use the default parameters except the ones bellow:"
   ]
  },
  {
   "cell_type": "code",
   "execution_count": null,
   "metadata": {},
   "outputs": [],
   "source": [
    "hyper_params = {\n",
    "    'solver': 'lbfgs', # you have to define the solver in the skicit learn implementation\n",
    "    'max_iter': 1000 # expanding the default number of iterations for the solver \n",
    "}"
   ]
  },
  {
   "cell_type": "markdown",
   "metadata": {},
   "source": [
    "## Creating the X and Y matrices "
   ]
  },
  {
   "cell_type": "markdown",
   "metadata": {},
   "source": [
    "The main idea when creating the X and Y matrices is to have **one row for one unique user**. Thus every created feature will be an aggregation on the user_id level."
   ]
  },
  {
   "cell_type": "code",
   "execution_count": null,
   "metadata": {},
   "outputs": [],
   "source": [
    "# Defining the 'current' date\n",
    "current_date = datetime.datetime(2019, 1, 3) \n",
    "\n",
    "# Subseting the users\n",
    "usr = users[users['account_created_date'] < datetime.datetime(2019, 1, 3) - datetime.timedelta(days=90)]\n",
    "\n",
    "# Getting the last transaction\n",
    "d = pd.merge(transactions, usr, on='user_id').groupby(['user_id'], as_index=False)['created_date'].max()\n",
    "d = d.rename(columns={'created_date': 'last_transaction_date'})\n",
    "\n",
    "# Assigning the 'current' date \n",
    "d['current_date'] = current_date\n",
    "\n",
    "# Getting the differences between the the current date and the last transaction date\n",
    "d['days_since_last_transaction'] = [x.days for x in d['current_date'] - d['last_transaction_date']]\n",
    "\n",
    "# Creating the label for disengaged users\n",
    "d['is_disengaged'] = [1 if x > 90 else 0 for x in d['days_since_last_transaction']]\n",
    "\n",
    "# Leaving only the necessary information \n",
    "d = d[['user_id', 'is_disengaged']]"
   ]
  },
  {
   "cell_type": "markdown",
   "metadata": {},
   "source": [
    "The distribution of classes: "
   ]
  },
  {
   "cell_type": "code",
   "execution_count": null,
   "metadata": {},
   "outputs": [],
   "source": [
    "class_distribution = d.groupby('is_disengaged', as_index=False).count().rename(columns={'user_id': 'user_count'})\n",
    "class_distribution['share_of_total'] = class_distribution['user_count']/np.sum(class_distribution['user_count'])\n",
    "class_distribution"
   ]
  },
  {
   "cell_type": "markdown",
   "metadata": {},
   "source": [
    "As it turns out, about 15 percent of the users in the dataset sent the last transaction more than 90 days ago when compared to the 'current' date. This means that there are 15 percent of disengaged users in our dataset. "
   ]
  },
  {
   "cell_type": "code",
   "execution_count": null,
   "metadata": {},
   "outputs": [],
   "source": [
    "# Getting aggregated user level information from transactions\n",
    "txn = pd.merge(transactions, usr, on='user_id').copy()\n",
    "\n",
    "# Extracting the features from the transactions \n",
    "fe = TransactionFeatures(txn)\n",
    "txn_ft = fe.feature_engineering_pipeline()\n",
    "\n",
    "# Merging all the feature infromation to the labeled user data \n",
    "\n",
    "# User info\n",
    "dt = pd.merge(d, users[['user_id', 'country', 'birth_year', 'plan']], on='user_id')\n",
    "\n",
    "# Device info\n",
    "dt = pd.merge(dt, devices, on='user_id')\n",
    "\n",
    "# Extracted information from transaction data \n",
    "dt = pd.merge(dt, txn_ft, on='user_id')\n",
    "\n",
    "# Droping the user_id column because it has no use here anymore \n",
    "dt.drop('user_id', axis=1, inplace=True)\n",
    "\n",
    "# Shuffling the data for the k fold analysis\n",
    "dt = dt.sample(frac=1)\n",
    "\n",
    "# Creating the dummy variables \n",
    "dt = pd.get_dummies(dt)\n",
    "\n",
    "# Droping NA \n",
    "dt.dropna(inplace=True)\n",
    "dt.reset_index(inplace=True, drop=True)\n",
    "\n",
    "# Spliting into Y and X matrix \n",
    "Y, X = dt['is_disengaged'], dt.drop('is_disengaged', axis=1)"
   ]
  },
  {
   "cell_type": "code",
   "execution_count": null,
   "metadata": {},
   "outputs": [],
   "source": [
    "# Shape of the design matrix\n",
    "X.shape"
   ]
  },
  {
   "cell_type": "markdown",
   "metadata": {},
   "source": [
    "After all the subseting we have 13109 rows representing unique users and 65 columns representing different features."
   ]
  },
  {
   "cell_type": "code",
   "execution_count": null,
   "metadata": {},
   "outputs": [],
   "source": [
    "# Shape of the dependent variable\n",
    "Y.shape"
   ]
  },
  {
   "cell_type": "code",
   "execution_count": null,
   "metadata": {},
   "outputs": [],
   "source": [
    "# Feature list\n",
    "X.columns"
   ]
  },
  {
   "cell_type": "markdown",
   "metadata": {},
   "source": [
    "## Feature explanation"
   ]
  },
  {
   "cell_type": "markdown",
   "metadata": {},
   "source": [
    "Every feature is calculated per user. Feature description:\n",
    "    \n",
    "**birt_year** - an integer regarding the birth year of a user. \n",
    "\n",
    "**amount_usd** - average amount of transaction in usd.\n",
    "\n",
    "**avg_txn** - average daily transaction count.\n",
    "\n",
    "--\n",
    "\n",
    "**ATM** - share of all transactions that were the ATM type.\n",
    "\n",
    "**CARD_PAYMENT** - share of all transactions that were the CARD_PAYMENT type.\n",
    "\n",
    "**CARD_REFUND** - share of all transactions that were the CARD_REFUND type.\n",
    "\n",
    "**CASHBACK** - share of all transactions that were the CASHBACK type.\n",
    "\n",
    "**EXCHANGE** - share of all transactions that were the EXCHANGE type. \n",
    "\n",
    "**FEE** - share of all transactions that were the FEE type. \n",
    "\n",
    "**REFUND** - share of all transactions that were the REFUND type.\n",
    "\n",
    "**TAX** - share of all transactions that were the TAX type.\n",
    "\n",
    "**TOPUP** - share of all transactions that were the TOPUP type. \n",
    "\n",
    "**TRANSFER** - share of all transactions that were the TRANSFER type.\n",
    "\n",
    "--\n",
    "\n",
    "**INBOUND** - share of all transactions that the direction feature equal to INBOUND.\n",
    "\n",
    "**OUTBOUND** - share of all transactions that the direction feature equal to OUTBOUND.\n",
    "\n",
    "--\n",
    "\n",
    "**country_x** - dummy variable for country x.\n",
    "\n",
    "**plan_x** - dummy variable for plan x.\n",
    "\n",
    "**brand_x** - dummy variable for brand x."
   ]
  },
  {
   "cell_type": "markdown",
   "metadata": {},
   "source": [
    "## K fold analysis "
   ]
  },
  {
   "cell_type": "markdown",
   "metadata": {},
   "source": [
    "I will do a 5 fold evaluation of the logistic regression model. In each fold, 20 percent of the data is used as test data for accuracy measurments and 80 percent of the data is used to train the model. "
   ]
  },
  {
   "cell_type": "code",
   "execution_count": null,
   "metadata": {},
   "outputs": [],
   "source": [
    "kfold = KFold(n_splits=5)\n",
    "acc = []\n",
    "number_of_disengaged = []\n",
    "real_number_of_disengaged = []\n",
    "\n",
    "for train_index, test_index in kfold.split(X):\n",
    "    X_fold = X.loc[train_index]\n",
    "    Y_fold = Y.loc[train_index]\n",
    "    \n",
    "    # Clasifier creation\n",
    "    clf = LogisticRegression(**hyper_params).fit(X_fold, Y_fold)\n",
    "    \n",
    "    # Forecasts\n",
    "    y_hat = clf.predict(X.loc[test_index])\n",
    "    acc.append(accuracy_score(Y.loc[test_index], y_hat))\n",
    "    \n",
    "    # Number of disengaged users found\n",
    "    number_of_disengaged.append(np.sum(y_hat==1))\n",
    "    \n",
    "    # Number of real disengaged users\n",
    "    real_number_of_disengaged.append(np.sum(Y.loc[test_index]==1))"
   ]
  },
  {
   "cell_type": "markdown",
   "metadata": {},
   "source": [
    "The accuracy scores of each fold is as follows: "
   ]
  },
  {
   "cell_type": "code",
   "execution_count": null,
   "metadata": {},
   "outputs": [],
   "source": [
    "[round(x, 3) for x in acc]"
   ]
  },
  {
   "cell_type": "markdown",
   "metadata": {},
   "source": [
    "Depending on the fold, **the accuracy of the clasifier is from 88 to 89 percent**. This means that out of all the predicted disengaged users, 88 to 89 percent of them will trully be disengaged. "
   ]
  },
  {
   "cell_type": "markdown",
   "metadata": {},
   "source": [
    "The number of disengaged users found in each fold:"
   ]
  },
  {
   "cell_type": "code",
   "execution_count": null,
   "metadata": {},
   "outputs": [],
   "source": [
    "number_of_disengaged"
   ]
  },
  {
   "cell_type": "markdown",
   "metadata": {},
   "source": [
    "The real number of disengaged users in each fold:"
   ]
  },
  {
   "cell_type": "code",
   "execution_count": null,
   "metadata": {},
   "outputs": [],
   "source": [
    "real_number_of_disengaged"
   ]
  },
  {
   "cell_type": "markdown",
   "metadata": {},
   "source": [
    "As we can see, the classifier misses just bellow half of all trully disengaged users. This can be improved with more features, more data and/or changing the classifier."
   ]
  },
  {
   "cell_type": "markdown",
   "metadata": {},
   "source": [
    "## Model fitting on all data and feature importance analysis"
   ]
  },
  {
   "cell_type": "markdown",
   "metadata": {},
   "source": [
    "We will fit the logistic regression model on all the data and analyze the coefficient values near the features. \n",
    "\n",
    "A positive coefficient value indicates that high values in the feature associated with the coefficient increases the probability for a user beeing disengaged P(class = 1). \n",
    "\n",
    "A negative value of a coefficient means that high values in the associated feature increases the probability for a user beeing engaged P(class = 0) = 1 - P(class = 1)."
   ]
  },
  {
   "cell_type": "code",
   "execution_count": null,
   "metadata": {},
   "outputs": [],
   "source": [
    "# Fitting the model \n",
    "model = LogisticRegression(**hyper_params).fit(X, Y)\n",
    "\n",
    "# Constructing feature importance dataframe\n",
    "df_ft = pd.DataFrame({\n",
    "    'feature': X.columns.tolist(),\n",
    "    'coef': model.coef_[0]\n",
    "}).sort_values('coef', ascending=False).reset_index(drop=True)"
   ]
  },
  {
   "cell_type": "code",
   "execution_count": null,
   "metadata": {},
   "outputs": [],
   "source": [
    "# Ploting the coefficient influence graph\n",
    "plt.figure(figsize=(12, 16))\n",
    "\n",
    "# Ploting the distribution by sign in age\n",
    "plt.barh(y=df_ft['feature'], width=df_ft['coef'])\n",
    "plt.title('Feature influence graph')\n",
    "plt.xlabel('Coefficient value')\n",
    "plt.show()"
   ]
  },
  {
   "cell_type": "markdown",
   "metadata": {},
   "source": [
    "The top feature interpretation defining an **engaged** user:\n",
    "\n",
    "* Bigger number of transactions that have the CARD_PAYMENT or TRANSFER types lead to users beeing engaged.  \n",
    "\n",
    "* Users with PREMIUM or METAL plans tend to be more engaged that with other plans. \n",
    "\n",
    "* Users from RO or MT countries tend to be more engaged on average. \n",
    "\n",
    "* On average, bigger number of OUTBOUND direction transactions lead to users beeing engaged when compared to the INBOUND direction.\n",
    "\n",
    "The top feature interpretation defining an **disengaged** user:\n",
    "\n",
    "* If the users send mostly FEE or TOPUP transactions it leads to them beeing disengaged.\n",
    "\n",
    "* Having the STANDART plan increases the chances of beeing disengaged. \n",
    "\n",
    "* On average, bigger number of INBOUND direction transactions lead to users beeing disengaged when compared to the OUTBOUND direction."
   ]
  },
  {
   "cell_type": "markdown",
   "metadata": {},
   "source": [
    "From the EDA of the transactions data set, it is clear that most users use STANDART plan and use the CARD_PAYMENT types. This means, that for most users, these two features cancel each other out when calculating the probability whether they are disengaged or not. \n",
    "\n",
    "The more informative features are the TOPUP, FEE, plan_PREMIUM and plan_METAL features when deciding user engagement."
   ]
  },
  {
   "cell_type": "markdown",
   "metadata": {},
   "source": [
    "# Evaluating churn reducing strategy success"
   ]
  },
  {
   "cell_type": "markdown",
   "metadata": {},
   "source": [
    "Let us assume that revolut implements the logistic regression model and during certain times scans the user base and labels them whether they are likely to be disengaged or not. \n",
    "\n",
    "Then, let us imagine that we want to try out a new marketing message to keep those users engaged. This process is often called churn reducement. We need to set up an experiment to see whether a new message has a positive effect, negative effect or no effect on user engagement. \n",
    "\n",
    "To do this we will define a simple **A/B testing** experiment. "
   ]
  },
  {
   "cell_type": "markdown",
   "metadata": {},
   "source": [
    "## A/B test description"
   ]
  },
  {
   "cell_type": "markdown",
   "metadata": {},
   "source": [
    "As the name suggests, we will split a user group into two subgroups: A and B. One group (A) will not be altered by anything and another group (B) will receive a treatment (a marketing message in our case). We want to compare what effect did our treatment had on the B group in comparison to the A group. \n",
    "\n",
    "It is imperitive to keep everything, appart from the treatment, as equal as possible between the groups. This means that users need to be selected from the same country, same age group, same plan, etc. The more equal are the individuals in both groups, the better evaluation of the treatment we get. "
   ]
  },
  {
   "cell_type": "markdown",
   "metadata": {},
   "source": [
    "### Metric of the experiment"
   ]
  },
  {
   "cell_type": "markdown",
   "metadata": {},
   "source": [
    "A user is disengaged when he does interact with a given product. The interactions that can be defined using the data provided are transactions. So we can calculate the average transactions sent by users after n days of receiving a message versus not receiving. "
   ]
  },
  {
   "cell_type": "markdown",
   "metadata": {},
   "source": [
    "### Treatment"
   ]
  },
  {
   "cell_type": "markdown",
   "metadata": {},
   "source": [
    "One group will receive a message **\"We have not seen in you in quite a while. Is everything ok? Revolut team\"** and the other group will not receive this message."
   ]
  },
  {
   "cell_type": "markdown",
   "metadata": {},
   "source": [
    "### Group selection"
   ]
  },
  {
   "cell_type": "markdown",
   "metadata": {},
   "source": [
    "We will pick a 5 percent of random users from the GB country, falling into 20-25 age group, and all having a standart plan. We will call this group the experiment population. The experiment population is then randomly split into two equal categories and each user is assigned either the A label or B label.  "
   ]
  },
  {
   "cell_type": "markdown",
   "metadata": {},
   "source": [
    "### Time range of the experiment"
   ]
  },
  {
   "cell_type": "markdown",
   "metadata": {},
   "source": [
    "We will send the message to B group users at 2020-04-01 and track data for both of the groups from that day to 2020-04-10."
   ]
  },
  {
   "cell_type": "markdown",
   "metadata": {},
   "source": [
    "### Test hypothesis "
   ]
  },
  {
   "cell_type": "markdown",
   "metadata": {},
   "source": [
    "Let us define $\\mu_{x}$ to be the average number of transactions per day for group x during the experiment's time frame. \n",
    "\n",
    "Then our hypothesis:\n",
    "\n",
    "$$ H_{0}: \\mu_{A} = \\mu_{B} $$\n",
    "\n",
    "$$ H_{1}: \\mu_{A} \\neq \\mu_{B}$$"
   ]
  },
  {
   "cell_type": "markdown",
   "metadata": {},
   "source": [
    "## Evaluating the test success"
   ]
  },
  {
   "cell_type": "markdown",
   "metadata": {},
   "source": [
    "We will use visualizations and linear regression to assess the performance of our experiment. \n",
    "\n",
    "Let us assume that we have 100 users in A group and 100 users in B group. After the 10 day period we aggregate the user behaviour and for each user calculate their average number of daily transactions. "
   ]
  },
  {
   "cell_type": "code",
   "execution_count": null,
   "metadata": {},
   "outputs": [],
   "source": [
    "# Defining the number of users\n",
    "n = 100\n",
    "\n",
    "# Simulation \n",
    "A = np.random.normal(1, 0.1, n).tolist()\n",
    "B = np.random.normal(1.2, 0.15, n).tolist()\n",
    "\n",
    "# Visualizing\n",
    "plt.figure(figsize=(8, 5))\n",
    "plt.hist(A, alpha=0.5, edgecolor='b', label='A')\n",
    "plt.hist(B, alpha=0.5, edgecolor='b', label='B')\n",
    "plt.legend(loc='upper right')\n",
    "plt.show()"
   ]
  },
  {
   "cell_type": "markdown",
   "metadata": {},
   "source": [
    "The first step when analyzing the experiments results is to inspect the results visually. From the two histograms above we can see that the B group average is more to the right than group A's. This tells us that B group, on average, had more average transactions but we need to prove this by numbers. "
   ]
  },
  {
   "cell_type": "markdown",
   "metadata": {},
   "source": [
    "### Y and X matrices for the regression"
   ]
  },
  {
   "cell_type": "markdown",
   "metadata": {},
   "source": [
    "We will build a Y and X matrix, run a linear regression and interpret the results. "
   ]
  },
  {
   "cell_type": "code",
   "execution_count": null,
   "metadata": {},
   "outputs": [],
   "source": [
    "# Stacking the two groups together. The first n elements will be the A group and the last n elements \n",
    "# will be the B group\n",
    "Y = A + B\n",
    "\n",
    "# X matrix will have two collumns: one for intercept and one for the group dummy variable. \n",
    "# The first n entries will be zeroes and the last n entries will be 1 \n",
    "const = np.ones(len(Y))\n",
    "dummy_B = np.concatenate((np.zeros(len(A)), np.ones(len(B))), axis=None)\n",
    "\n",
    "X = pd.DataFrame({\n",
    "    'const': const, \n",
    "    'dummy_B': dummy_B\n",
    "})"
   ]
  },
  {
   "cell_type": "markdown",
   "metadata": {},
   "source": [
    "The matrices are the following: \n",
    "    \n",
    "$$ Y = \\begin{bmatrix}\n",
    "A_{1} \\\\\n",
    "A_{2} \\\\\n",
    "... \\\\\n",
    "A_{100} \\\\\n",
    "B_{1} \\\\\n",
    "B_{2}\\\\\n",
    "... \\\\\n",
    "B_{100}\n",
    "\\end{bmatrix}_{200x1} X = \\begin{bmatrix}\n",
    "1 & 0  \\\\\n",
    "1 & 0\\\\\n",
    "... \\\\\n",
    "1  & 0\\\\\n",
    "1 & 1\\\\\n",
    "1 & 1\\\\\n",
    "... \\\\\n",
    "1 & 1\n",
    "\\end{bmatrix}_{200x2}\t $$"
   ]
  },
  {
   "cell_type": "markdown",
   "metadata": {},
   "source": [
    "### Fitting the regression and analyzing results"
   ]
  },
  {
   "cell_type": "markdown",
   "metadata": {},
   "source": [
    "The regression equation which we are trying to fit is the following:"
   ]
  },
  {
   "cell_type": "markdown",
   "metadata": {},
   "source": [
    "$$Y = \\beta_{0} + \\beta_{1} 1_{x \\in B} + \\epsilon$$\n",
    "\n",
    "Where \n",
    "\n",
    "$Y$ - average transactions per day \n",
    "\n",
    "$1_{x \\in B}$ - indicator function indicating whether an observation was from the B group (=1) or not (=0). "
   ]
  },
  {
   "cell_type": "markdown",
   "metadata": {},
   "source": [
    "If there is a significant change in the number of average transcations while beeing in group B, then the coefficient $\\beta_{1}$ should be siginificant. "
   ]
  },
  {
   "cell_type": "code",
   "execution_count": null,
   "metadata": {},
   "outputs": [],
   "source": [
    "# Fitting the model\n",
    "model = sm.OLS(Y, X).fit()\n",
    "\n",
    "# Creating a tidy dataframe for results\n",
    "results = pd.DataFrame({\n",
    "    'feature': model.params.index,\n",
    "    'coefficient': model.params,\n",
    "    'p_value': model.pvalues\n",
    "}).reset_index(drop=True)\n",
    "\n",
    "results"
   ]
  },
  {
   "cell_type": "markdown",
   "metadata": {},
   "source": [
    "If the pvalue of a coeffcient is lower than 0.05 then we can say with very high confidence that the coefficient is statistically significant (not equal to 0). In our case we can see that the variable **dummy_B** is very significant and the coefficient value is about 0.2. \n",
    "\n",
    "This means that, on average, the B group people sent 0.2 transactions per day more than the people in A group. Thus, the marketing message had a positive and significant effect in increasing the average number of transactions.   "
   ]
  },
  {
   "cell_type": "markdown",
   "metadata": {},
   "source": [
    "By using the regression approach we can quantify the impact of our marketing strategy.\n",
    "\n",
    "If the coefficient was negative, then we could say that the message had a negative effect on the average number of daily transactions. \n",
    "\n",
    "If the p value would be bigger than 0.05, then we can conclude that the message had no effect to the user interaction."
   ]
  }
 ],
 "metadata": {
  "kernelspec": {
   "display_name": "Python 3.7.4 64-bit ('base': conda)",
   "language": "python",
   "name": "python37464bitbasecondac73a0ff84db645ac8639d88adf2ead63"
  },
  "language_info": {
   "codemirror_mode": {
    "name": "ipython",
    "version": 3
   },
   "file_extension": ".py",
   "mimetype": "text/x-python",
   "name": "python",
   "nbconvert_exporter": "python",
   "pygments_lexer": "ipython3",
   "version": "3.7.4"
  }
 },
 "nbformat": 4,
 "nbformat_minor": 2
}
